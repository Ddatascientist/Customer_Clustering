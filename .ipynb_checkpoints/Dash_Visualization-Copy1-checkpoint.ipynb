{
 "cells": [
  {
   "cell_type": "code",
   "execution_count": 36,
   "metadata": {},
   "outputs": [],
   "source": [
    "# !pip install dash"
   ]
  },
  {
   "cell_type": "markdown",
   "metadata": {},
   "source": [
    "**Import Libraries**"
   ]
  },
  {
   "cell_type": "code",
   "execution_count": 38,
   "metadata": {},
   "outputs": [],
   "source": [
    "import pandas as pd\n",
    "import numpy as np\n",
    "import matplotlib.pyplot as plt\n",
    "import seaborn as sns\n",
    "import plotly.express as px\n",
    "\n",
    "import dash\n",
    "from dash import dcc, html, dash_table\n",
    "from dash.dependencies import Input, Output\n",
    "\n"
   ]
  },
  {
   "cell_type": "markdown",
   "metadata": {},
   "source": [
    "***WRANGLE FUNCTION***\n",
    "\n",
    "To clean and filter my dataframe before use"
   ]
  },
  {
   "cell_type": "code",
   "execution_count": 40,
   "metadata": {},
   "outputs": [],
   "source": [
    "def wrangle(filepath):\n",
    "\n",
    "  df = pd.read_excel(filepath, parse_dates=True) # Read data\n",
    "\n",
    "  df = df.rename(columns={'Amount' : 'Total_Sales'})\n",
    "\n",
    "  # list unwanted rows\n",
    "  rtf = ['Custom Pack - Cone', 'Custom Pack - Sticker', 'Caramel Popcorn 30g Pieces', 'Custom Pack - Box']\n",
    "\n",
    "  # filter out unwanted rows\n",
    "  mask2 = ~df['Product Name'].isin(rtf)\n",
    "  df  = df[mask2]\n",
    "\n",
    "  # filtering out the zero sales\n",
    "  mask = df['Total_Sales'] != 0\n",
    "  df = df[mask]\n",
    "\n",
    "  # convert date to pandas datetime obj\n",
    "  df['Date'] = pd.to_datetime(df['Date'], dayfirst=True)\n",
    "\n",
    "\n",
    "\n",
    "  return df"
   ]
  },
  {
   "cell_type": "code",
   "execution_count": 41,
   "metadata": {},
   "outputs": [
    {
     "data": {
      "text/html": [
       "<div>\n",
       "<style scoped>\n",
       "    .dataframe tbody tr th:only-of-type {\n",
       "        vertical-align: middle;\n",
       "    }\n",
       "\n",
       "    .dataframe tbody tr th {\n",
       "        vertical-align: top;\n",
       "    }\n",
       "\n",
       "    .dataframe thead th {\n",
       "        text-align: right;\n",
       "    }\n",
       "</style>\n",
       "<table border=\"1\" class=\"dataframe\">\n",
       "  <thead>\n",
       "    <tr style=\"text-align: right;\">\n",
       "      <th></th>\n",
       "      <th>Date</th>\n",
       "      <th>Invoice_no</th>\n",
       "      <th>Customer_ID</th>\n",
       "      <th>Product Name</th>\n",
       "      <th>Qty</th>\n",
       "      <th>Total_Sales</th>\n",
       "    </tr>\n",
       "  </thead>\n",
       "  <tbody>\n",
       "    <tr>\n",
       "      <th>2</th>\n",
       "      <td>2023-12-23</td>\n",
       "      <td>7092</td>\n",
       "      <td>633Oluch</td>\n",
       "      <td>Caramel Popcorn 30g Distributor</td>\n",
       "      <td>150</td>\n",
       "      <td>360000</td>\n",
       "    </tr>\n",
       "    <tr>\n",
       "      <th>3</th>\n",
       "      <td>2023-12-23</td>\n",
       "      <td>7091</td>\n",
       "      <td>736Sam I</td>\n",
       "      <td>Caramel Popcorn 55g Sub</td>\n",
       "      <td>100</td>\n",
       "      <td>600000</td>\n",
       "    </tr>\n",
       "    <tr>\n",
       "      <th>4</th>\n",
       "      <td>2023-12-22</td>\n",
       "      <td>7090</td>\n",
       "      <td>860EKERI</td>\n",
       "      <td>Caramel Popcorn 30g Sub</td>\n",
       "      <td>270</td>\n",
       "      <td>648000</td>\n",
       "    </tr>\n",
       "    <tr>\n",
       "      <th>5</th>\n",
       "      <td>2023-12-22</td>\n",
       "      <td>7089</td>\n",
       "      <td>633Oluch</td>\n",
       "      <td>Caramel Popcorn 55g Distributor</td>\n",
       "      <td>150</td>\n",
       "      <td>900000</td>\n",
       "    </tr>\n",
       "    <tr>\n",
       "      <th>6</th>\n",
       "      <td>2023-12-22</td>\n",
       "      <td>7088</td>\n",
       "      <td>179Yemsu</td>\n",
       "      <td>Caramel Popcorn 30g Sub</td>\n",
       "      <td>50</td>\n",
       "      <td>120000</td>\n",
       "    </tr>\n",
       "  </tbody>\n",
       "</table>\n",
       "</div>"
      ],
      "text/plain": [
       "        Date  Invoice_no Customer_ID                     Product Name  Qty  \\\n",
       "2 2023-12-23        7092    633Oluch  Caramel Popcorn 30g Distributor  150   \n",
       "3 2023-12-23        7091    736Sam I          Caramel Popcorn 55g Sub  100   \n",
       "4 2023-12-22        7090    860EKERI          Caramel Popcorn 30g Sub  270   \n",
       "5 2023-12-22        7089    633Oluch  Caramel Popcorn 55g Distributor  150   \n",
       "6 2023-12-22        7088    179Yemsu          Caramel Popcorn 30g Sub   50   \n",
       "\n",
       "   Total_Sales  \n",
       "2       360000  \n",
       "3       600000  \n",
       "4       648000  \n",
       "5       900000  \n",
       "6       120000  "
      ]
     },
     "execution_count": 41,
     "metadata": {},
     "output_type": "execute_result"
    }
   ],
   "source": [
    "df = wrangle('Soyum_data.xlsx')\n",
    "df.head()"
   ]
  },
  {
   "cell_type": "markdown",
   "metadata": {},
   "source": [
    "**DASH-LAYOUT**"
   ]
  },
  {
   "cell_type": "code",
   "execution_count": 43,
   "metadata": {},
   "outputs": [
    {
     "data": {
      "text/html": [
       "<div>\n",
       "<style scoped>\n",
       "    .dataframe tbody tr th:only-of-type {\n",
       "        vertical-align: middle;\n",
       "    }\n",
       "\n",
       "    .dataframe tbody tr th {\n",
       "        vertical-align: top;\n",
       "    }\n",
       "\n",
       "    .dataframe thead th {\n",
       "        text-align: right;\n",
       "    }\n",
       "</style>\n",
       "<table border=\"1\" class=\"dataframe\">\n",
       "  <thead>\n",
       "    <tr style=\"text-align: right;\">\n",
       "      <th></th>\n",
       "      <th>Customer_ID</th>\n",
       "      <th>Last_purchase</th>\n",
       "      <th>Frequency</th>\n",
       "      <th>Monetary</th>\n",
       "      <th>Recency</th>\n",
       "      <th>Cluster_labels</th>\n",
       "      <th>Cluster_names_</th>\n",
       "      <th>monetary_in_thousandth</th>\n",
       "    </tr>\n",
       "  </thead>\n",
       "  <tbody>\n",
       "    <tr>\n",
       "      <th>0</th>\n",
       "      <td>101Am2Pm</td>\n",
       "      <td>2023-06-13</td>\n",
       "      <td>2</td>\n",
       "      <td>82420</td>\n",
       "      <td>507</td>\n",
       "      <td>1</td>\n",
       "      <td>Brk_new_Ground</td>\n",
       "      <td>0.8242</td>\n",
       "    </tr>\n",
       "    <tr>\n",
       "      <th>1</th>\n",
       "      <td>116Tinua</td>\n",
       "      <td>2024-10-02</td>\n",
       "      <td>5</td>\n",
       "      <td>704000</td>\n",
       "      <td>30</td>\n",
       "      <td>0</td>\n",
       "      <td>Potential_Customers</td>\n",
       "      <td>7.0400</td>\n",
       "    </tr>\n",
       "    <tr>\n",
       "      <th>2</th>\n",
       "      <td>142Out o</td>\n",
       "      <td>2024-05-27</td>\n",
       "      <td>9</td>\n",
       "      <td>1014500</td>\n",
       "      <td>158</td>\n",
       "      <td>4</td>\n",
       "      <td>Low_spenders</td>\n",
       "      <td>10.1450</td>\n",
       "    </tr>\n",
       "    <tr>\n",
       "      <th>3</th>\n",
       "      <td>158Soton</td>\n",
       "      <td>2024-09-20</td>\n",
       "      <td>15</td>\n",
       "      <td>4504000</td>\n",
       "      <td>42</td>\n",
       "      <td>2</td>\n",
       "      <td>Re-engage</td>\n",
       "      <td>45.0400</td>\n",
       "    </tr>\n",
       "    <tr>\n",
       "      <th>4</th>\n",
       "      <td>164ADENU</td>\n",
       "      <td>2023-07-27</td>\n",
       "      <td>1</td>\n",
       "      <td>20000</td>\n",
       "      <td>463</td>\n",
       "      <td>1</td>\n",
       "      <td>Brk_new_Ground</td>\n",
       "      <td>0.2000</td>\n",
       "    </tr>\n",
       "  </tbody>\n",
       "</table>\n",
       "</div>"
      ],
      "text/plain": [
       "  Customer_ID Last_purchase  Frequency  Monetary  Recency  Cluster_labels  \\\n",
       "0    101Am2Pm    2023-06-13          2     82420      507               1   \n",
       "1    116Tinua    2024-10-02          5    704000       30               0   \n",
       "2    142Out o    2024-05-27          9   1014500      158               4   \n",
       "3    158Soton    2024-09-20         15   4504000       42               2   \n",
       "4    164ADENU    2023-07-27          1     20000      463               1   \n",
       "\n",
       "        Cluster_names_  monetary_in_thousandth  \n",
       "0       Brk_new_Ground                  0.8242  \n",
       "1  Potential_Customers                  7.0400  \n",
       "2         Low_spenders                 10.1450  \n",
       "3            Re-engage                 45.0400  \n",
       "4       Brk_new_Ground                  0.2000  "
      ]
     },
     "execution_count": 43,
     "metadata": {},
     "output_type": "execute_result"
    }
   ],
   "source": [
    "# Loading in the clustered data\n",
    "clustered_df = pd.read_csv('clustered_df.csv')\n",
    "clustered_df.head()"
   ]
  },
  {
   "cell_type": "code",
   "execution_count": 44,
   "metadata": {},
   "outputs": [],
   "source": [
    "app = dash.Dash(__name__)\n",
    "app.layout = html.Div([\n",
    "    html.H1('Soyummy Customer Segmentation Dashboard', style={\n",
    "        'text-align': 'center', 'color': 'white'\n",
    "        }),\n",
    "\n",
    "    html.Div([\n",
    "        html.Label('Select Fiscal Year', style={'color': 'white', 'font-size': '20px'}),\n",
    "            dcc.Dropdown(\n",
    "                options = [{'label': i, 'value': i} for i in df['Date'].dt.year.unique()],\n",
    "                id='fiscal_year'\n",
    "                ),], style={'margin': 'auto','width': '50%','padding': '10px'}),\n",
    "    html.Div([\n",
    "        dcc.Graph(id='eda_bar1'),\n",
    "        dcc.Graph(id='eda_bar2'),\n",
    "    ], style={'padding': '50px'}),\n",
    "\n",
    "    html.Br(),\n",
    "    html.Br(),\n",
    "    \n",
    "    html.Div([\n",
    "        html.H2('Cluster Result', style={'text-align': 'center', 'color': 'white'}),\n",
    "        dcc.Graph(id='cluster_bar',),\n",
    "        html.Br(),\n",
    "        html.Label('Select Cluster Group', style={'color': 'white', 'font-size': '20px'}),\n",
    "        dcc.Dropdown(\n",
    "            options = [{'label': i, 'value': i} for i in clustered_df['Cluster_names_'].unique()],\n",
    "            placeholder = 'Choose Cluster name',\n",
    "            id='clusters', style = {'width': '40%', 'margin': \"15px\"}\n",
    "        ),\n",
    "        html.Div(id='table',)\n",
    "    ], style={'padding': '10px'}),\n",
    "])"
   ]
  },
  {
   "cell_type": "markdown",
   "metadata": {},
   "source": [
    "**Defined Functions**\n",
    "\n",
    "Here all the figures to visualize are put into a function"
   ]
  },
  {
   "cell_type": "code",
   "execution_count": 46,
   "metadata": {},
   "outputs": [],
   "source": [
    "def top10_sales_bar(df):\n",
    "  df_top10 = (\n",
    "    df.groupby(by='Customer_ID', as_index=False)['Total_Sales']\n",
    "            .sum()\n",
    "            .sort_values(by='Total_Sales', ascending=False)\n",
    "            .head(10))\n",
    "  \n",
    "  plt.figure(figsize=(8, 5), dpi=80)\n",
    "  fig = px.bar(df_top10,\n",
    "              x=df_top10.Total_Sales,\n",
    "              y=df_top10.Customer_ID,\n",
    "              orientation='h', color='Total_Sales')\n",
    "  fig.update_layout(xaxis_title='Total Sales', \n",
    "                    yaxis_title='Customer ID', \n",
    "                    title='Top 10 Customers in terms of Total Sales')\n",
    "\n",
    "  return fig"
   ]
  },
  {
   "cell_type": "code",
   "execution_count": 47,
   "metadata": {},
   "outputs": [],
   "source": [
    "def top10_selling_productline(df):\n",
    "    top_prodctline = (\n",
    "    df.groupby(by=['Customer_ID', 'Product Name'], as_index=False)['Product Name']\n",
    "    .value_counts()\n",
    "    .sort_values(by='count', ascending=False)\n",
    "    .head(10)\n",
    "    )\n",
    "\n",
    "    fig2 = px.bar(top_prodctline,\n",
    "             x='Customer_ID',\n",
    "             y='count',\n",
    "             color='Product Name',\n",
    "             barmode='group')\n",
    "    fig2.update_layout(title='Top 10 Selling Productlines',\n",
    "                      xaxis_title='Customer ID',\n",
    "                      yaxis_title='Productline Counts')\n",
    "    return fig2\n",
    "    "
   ]
  },
  {
   "cell_type": "code",
   "execution_count": 48,
   "metadata": {},
   "outputs": [],
   "source": [
    "\n",
    "def cluster_bargraph(df):\n",
    "    df = df\n",
    "    cluster_count = df['Cluster_names_'].value_counts()\n",
    "\n",
    "    fig3 = px.bar(\n",
    "        cluster_count,\n",
    "        x=cluster_count.index,\n",
    "        y=cluster_count.values,\n",
    "        color = 'count'\n",
    "    )\n",
    "    fig3.update_layout(title='Customer Cluster Visualization',\n",
    "                      xaxis_title='Cluster',\n",
    "                      yaxis_title='Cluster Counts')\n",
    "    \n",
    "    return fig3"
   ]
  },
  {
   "cell_type": "markdown",
   "metadata": {},
   "source": [
    "**CALLBACK FUNCTIONS**"
   ]
  },
  {
   "cell_type": "code",
   "execution_count": 50,
   "metadata": {},
   "outputs": [],
   "source": [
    "@app.callback(\n",
    "    Output('eda_bar2', 'figure'),\n",
    "    Input('fiscal_year', 'value')\n",
    ")\n",
    "def update_eda_graph(value):\n",
    "    data = df.copy()\n",
    "    if value != None:\n",
    "        mask = data['Date'].dt.year == value\n",
    "        data_coy = data[mask]\n",
    "        bar_1 = top10_selling_productline(data_coy)\n",
    "        return bar_1\n",
    "    else:\n",
    "        bar_1 = top10_selling_productline(data)\n",
    "        return bar_1"
   ]
  },
  {
   "cell_type": "code",
   "execution_count": 51,
   "metadata": {},
   "outputs": [],
   "source": [
    "@app.callback(\n",
    "    Output('eda_bar1', 'figure'),\n",
    "    Input('fiscal_year', 'value')\n",
    ")\n",
    "def update_eda_graph(value):\n",
    "    data = df.copy()\n",
    "    if value != None:\n",
    "        mask = data['Date'].dt.year == value\n",
    "        data_coy = data[mask]\n",
    "        bar_2 = top10_sales_bar(data_coy)\n",
    "        return bar_2\n",
    "    else:\n",
    "        bar_2 = top10_sales_bar(data)\n",
    "        return bar_2\n",
    "        \n",
    "            "
   ]
  },
  {
   "cell_type": "code",
   "execution_count": 52,
   "metadata": {},
   "outputs": [],
   "source": [
    "@app.callback(\n",
    "    Output('cluster_bar', 'figure'),\n",
    "    Input('clusters', 'value')\n",
    ")\n",
    "def update_bar_graph(v):\n",
    "    fig3_graph = cluster_bargraph(clustered_df)\n",
    "    return fig3_graph"
   ]
  },
  {
   "cell_type": "code",
   "execution_count": 53,
   "metadata": {},
   "outputs": [],
   "source": [
    "@app.callback(\n",
    "    Output('table', 'children'),\n",
    "    Input('clusters', 'value')\n",
    ")\n",
    "def update_scatter_graph(v):\n",
    "    if v != None:\n",
    "        mask = clustered_df['Cluster_names_'] == v\n",
    "        df_table = clustered_df[mask]\n",
    "        df_table_grp = (\n",
    "            df_table\n",
    "            .groupby(by='Customer_ID', as_index=False)[['Recency', 'Frequency', 'Monetary']]\n",
    "            .mean()\n",
    "            .sort_values(by='Recency', ascending=True)\n",
    "        )\n",
    "        return dash_table.DataTable(\n",
    "            data=df_table_grp.to_dict('records'),\n",
    "            columns=[{'name': i, \"id\": i} for i in df_table_grp.columns],\n",
    "        )\n",
    "    else:\n",
    "        df_table_grp = (\n",
    "            clustered_df\n",
    "            .groupby(by='Customer_ID', as_index=False)[['Recency', 'Frequency', 'Monetary']]\n",
    "            .mean()\n",
    "            .sort_values(by='Recency', ascending=True)\n",
    "            .head(10)\n",
    "        )\n",
    "        return dash_table.DataTable(\n",
    "            data=df_table_grp.to_dict('records'),\n",
    "            columns=[{'name': i, \"id\": i} for i in df_table_grp.columns],\n",
    "        )\n",
    "\n",
    "\n",
    "        "
   ]
  },
  {
   "cell_type": "markdown",
   "metadata": {},
   "source": [
    "**VISUALIZATION**"
   ]
  },
  {
   "cell_type": "code",
   "execution_count": 68,
   "metadata": {},
   "outputs": [
    {
     "data": {
      "text/html": [
       "\n",
       "        <iframe\n",
       "            width=\"100%\"\n",
       "            height=\"650\"\n",
       "            src=\"http://127.0.0.1:8050/\"\n",
       "            frameborder=\"0\"\n",
       "            allowfullscreen\n",
       "            \n",
       "        ></iframe>\n",
       "        "
      ],
      "text/plain": [
       "<IPython.lib.display.IFrame at 0x1cbc0d44910>"
      ]
     },
     "metadata": {},
     "output_type": "display_data"
    }
   ],
   "source": [
    "from logging import debug\n",
    "if __name__ == '__main__':\n",
    "    app.run_server(debug=True)"
   ]
  },
  {
   "cell_type": "code",
   "execution_count": null,
   "metadata": {},
   "outputs": [],
   "source": []
  },
  {
   "cell_type": "code",
   "execution_count": null,
   "metadata": {},
   "outputs": [],
   "source": []
  }
 ],
 "metadata": {
  "kernelspec": {
   "display_name": "Python [conda env:base] *",
   "language": "python",
   "name": "conda-base-py"
  },
  "language_info": {
   "codemirror_mode": {
    "name": "ipython",
    "version": 3
   },
   "file_extension": ".py",
   "mimetype": "text/x-python",
   "name": "python",
   "nbconvert_exporter": "python",
   "pygments_lexer": "ipython3",
   "version": "3.11.7"
  },
  "widgets": {
   "application/vnd.jupyter.widget-state+json": {
    "state": {},
    "version_major": 2,
    "version_minor": 0
   }
  }
 },
 "nbformat": 4,
 "nbformat_minor": 4
}
